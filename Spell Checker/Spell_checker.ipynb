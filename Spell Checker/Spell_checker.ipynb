{
 "cells": [
  {
   "cell_type": "code",
   "execution_count": 17,
   "metadata": {},
   "outputs": [],
   "source": [
    "# code courtesy of https://www.youtube.com/watch?v=4yOKlWZk52M\n",
    "import re\n",
    "import string\n",
    "import numpy as np\n",
    "from collections import Counter"
   ]
  },
  {
   "cell_type": "code",
   "execution_count": 15,
   "metadata": {},
   "outputs": [],
   "source": [
    "def read_corpus(path):\n",
    "    with open(path,mode='r',encoding=\"utf8\") as f:\n",
    "        lines = f.readlines()\n",
    "        words=[]\n",
    "        for line in lines:\n",
    "            words+=re.findall(r'\\w+',line.lower()) \n",
    "    return words"
   ]
  },
  {
   "cell_type": "code",
   "execution_count": 31,
   "metadata": {},
   "outputs": [],
   "source": [
    "words = read_corpus('./big.txt')\n",
    "vocabulary = set(words)\n",
    "word_counts = Counter(words)\n",
    "total_word_counts = float(len(words))\n",
    "word_probs = {word: word_counts[word] / total_word_count for word in word_counts.keys()}"
   ]
  },
  {
   "cell_type": "code",
   "execution_count": 34,
   "metadata": {},
   "outputs": [],
   "source": [
    "def split(word):\n",
    "    return [(word[:i], word[i:]) for i in range(len(word) + 1)]"
   ]
  },
  {
   "cell_type": "code",
   "execution_count": 35,
   "metadata": {},
   "outputs": [
    {
     "name": "stdout",
     "output_type": "stream",
     "text": [
      "[('', 'trash'), ('t', 'rash'), ('tr', 'ash'), ('tra', 'sh'), ('tras', 'h'), ('trash', '')]\n"
     ]
    }
   ],
   "source": [
    "print(split('trash'))"
   ]
  },
  {
   "cell_type": "code",
   "execution_count": 36,
   "metadata": {},
   "outputs": [],
   "source": [
    "def insert(word):\n",
    "    letters = string.ascii_lowercase\n",
    "    return [l + c + r for l,r in split(word) for c in letters]"
   ]
  },
  {
   "cell_type": "code",
   "execution_count": 39,
   "metadata": {},
   "outputs": [],
   "source": [
    "def delete(word):\n",
    "    return [l+r[1:] for l,r in split(word) if r]"
   ]
  },
  {
   "cell_type": "code",
   "execution_count": 53,
   "metadata": {},
   "outputs": [],
   "source": [
    "def replace(word):\n",
    "    letters = string.ascii_lowercase\n",
    "    return [l + c + r[1:] for l, r in split(word) if r for c in letters]"
   ]
  },
  {
   "cell_type": "code",
   "execution_count": 60,
   "metadata": {},
   "outputs": [],
   "source": [
    "def swap(word):\n",
    "    return [l + r[1] + r[0] + r[2:] for l,r in split(word) if len(r)>1]"
   ]
  },
  {
   "cell_type": "code",
   "execution_count": 62,
   "metadata": {},
   "outputs": [],
   "source": [
    "def edit_level_one(word):\n",
    "    return set(insert(word) + delete(word) + replace(word) + swap(word))"
   ]
  },
  {
   "cell_type": "code",
   "execution_count": 68,
   "metadata": {},
   "outputs": [],
   "source": [
    "def edit_level_two(word):\n",
    "    return [e2  for e1 in edit_level_one(word) for e2 in edit_level_one(e1)]"
   ]
  },
  {
   "cell_type": "code",
   "execution_count": 93,
   "metadata": {},
   "outputs": [],
   "source": [
    "def check(word):\n",
    "    if word in vocabulary:\n",
    "        print(f\"{word} is correct\")\n",
    "        return\n",
    "    suggest = edit_level_one(word) or edit_level_two[word] or [word]\n",
    "    best_suggest = [w for w in suggest if w in vocabulary]\n",
    "    return sorted([(w,word_probs[w]) for w in best_suggest],key=lambda tup:tup[1], reverse=True)"
   ]
  },
  {
   "cell_type": "code",
   "execution_count": 179,
   "metadata": {},
   "outputs": [],
   "source": [
    "class Spell_checker(object):\n",
    " \n",
    "    def __init__(self,corpus_file_path):\n",
    "        with open(corpus_file_path, mode='r', encoding='utf8') as f:\n",
    "            lines = f.readlines()\n",
    "            words = []\n",
    "            for line in lines:\n",
    "                words += re.findall(r'\\w+',line.lower())\n",
    "        self.vocabulary = set(words)\n",
    "        self.total_words = float(len(words))\n",
    "        self.word_count = Counter(words)\n",
    "        self.word_probs = {w:self.word_count[w]/self.total_words for w in vocabulary}\n",
    "        \n",
    "    def __level_one_edit(self,word):\n",
    "        split=[(word[:i],word[i:]) for i in range(len(word) + 1)]\n",
    "        letters=string.ascii_lowercase\n",
    "        insert=[ l + c + r for l,r in split for c in letters]\n",
    "        delete=[ l + r[1:] for l,r in split if r]\n",
    "        swap = [ l + r[1] + r[0] + r[2:] for l,r in split if len(r)>1]\n",
    "        replace=[ l + c + r[1:] for l,r in split if r for c in letters]\n",
    "        return set(delete + swap + insert + replace)\n",
    "        \n",
    "    def __level_two_edit(self,word):\n",
    "        return set(e2 for e1 in self.__level_one_edit(word) for e2 in self.__level_one_edit(e1))\n",
    "    \n",
    "    def check(self,word):\n",
    "        word = word.lower()\n",
    "        if word in self.vocabulary:\n",
    "            print(f\"{word} is correct.\")\n",
    "            return\n",
    "        condidates = set(list(self.__level_one_edit(word)) + list(self.__level_two_edit(word)))\n",
    "        valid_condidates = [w for w in condidates if w in self.vocabulary]\n",
    "        best_condidates = sorted([(w,self.word_probs[w]) for w in valid_condidates],key=lambda t:t[1], reverse=True)\n",
    "        return best_condidates"
   ]
  },
  {
   "cell_type": "code",
   "execution_count": 180,
   "metadata": {},
   "outputs": [],
   "source": [
    "fn = Spell_checker('./big.txt')"
   ]
  },
  {
   "cell_type": "code",
   "execution_count": 181,
   "metadata": {
    "scrolled": true
   },
   "outputs": [
    {
     "name": "stdout",
     "output_type": "stream",
     "text": [
      "[('the', 0.05326408544237128), ('me', 0.005816456449854818), ('there', 0.0047356031253148675), ('were', 0.0031967611039359547), ('some', 0.002244144614510914), ('see', 0.0021250675533327837), ('come', 0.0014838833777582369), ('time', 0.0013831258644536654), ('them', 0.0013464867687065483), ('came', 0.0013373269947697692), ('here', 0.0012823683511490936), ('tell', 0.0009068176197411448), ('these', 0.000760261236752677), ('take', 0.00072362214100556), ('name', 0.0005770657580170921), ('same', 0.0005221071143964167), ('tm', 0.0005221071143964167), ('home', 0.00043966914896540355), ('ten', 0.0002747932181033772), ('true', 0.00026563344416659796), ('terms', 0.000228994348419481), ('eye', 0.00021983457448270178), ('seem', 0.00015571615692524707), ('times', 0.00014655638298846784), ('gems', 0.00011907706117813012), ('fee', 0.00011907706117813012), ('mere', 9.15977393677924e-05), ('game', 8.243796543101317e-05), ('tide', 8.243796543101317e-05), ('lee', 6.411841755745468e-05), ('test', 5.4958643620675444e-05), ('tree', 5.4958643620675444e-05), ('tie', 4.57988696838962e-05), ('temper', 4.57988696838962e-05), ('tore', 4.57988696838962e-05), ('temple', 3.663909574711696e-05), ('jem', 3.663909574711696e-05), ('tale', 3.663909574711696e-05), ('tea', 2.7479321810337722e-05), ('toe', 2.7479321810337722e-05), ('lime', 2.7479321810337722e-05), ('tend', 1.831954787355848e-05), ('tear', 1.831954787355848e-05), ('gem', 1.831954787355848e-05), ('item', 1.831954787355848e-05), ('tone', 1.831954787355848e-05), ('tune', 9.15977393677924e-06), ('terse', 9.15977393677924e-06), ('wee', 9.15977393677924e-06), ('tense', 9.15977393677924e-06), ('text', 9.15977393677924e-06), ('bee', 9.15977393677924e-06), ('tube', 9.15977393677924e-06), ('vere', 9.15977393677924e-06), ('lame', 9.15977393677924e-06), ('ere', 9.15977393677924e-06), ('term', 9.15977393677924e-06), ('items', 9.15977393677924e-06), ('type', 9.15977393677924e-06), ('tire', 9.15977393677924e-06)]\n"
     ]
    }
   ],
   "source": [
    "print(fn.check('teme'))"
   ]
  },
  {
   "cell_type": "code",
   "execution_count": null,
   "metadata": {},
   "outputs": [],
   "source": []
  },
  {
   "cell_type": "code",
   "execution_count": null,
   "metadata": {},
   "outputs": [],
   "source": []
  }
 ],
 "metadata": {
  "kernelspec": {
   "display_name": "Python 3",
   "language": "python",
   "name": "python3"
  },
  "language_info": {
   "codemirror_mode": {
    "name": "ipython",
    "version": 3
   },
   "file_extension": ".py",
   "mimetype": "text/x-python",
   "name": "python",
   "nbconvert_exporter": "python",
   "pygments_lexer": "ipython3",
   "version": "3.7.4"
  }
 },
 "nbformat": 4,
 "nbformat_minor": 2
}
