{
 "cells": [
  {
   "cell_type": "code",
   "execution_count": 1,
   "metadata": {},
   "outputs": [],
   "source": [
    "# https://www.analyticsvidhya.com/blog/2019/08/comprehensive-guide-language-model-nlp-python-code/\n",
    "# code courtesy of https://nlpforhackers.io/language-models/\n",
    "from nltk.corpus import reuters\n",
    "from nltk import bigrams, trigrams\n",
    "from collections import Counter, defaultdict"
   ]
  },
  {
   "cell_type": "code",
   "execution_count": null,
   "metadata": {},
   "outputs": [],
   "source": [
    "import nltk\n",
    "nltk.download('reuters')"
   ]
  },
  {
   "cell_type": "code",
   "execution_count": 2,
   "metadata": {},
   "outputs": [],
   "source": [
    "# Create a placeholder for model\n",
    "model = defaultdict(lambda: defaultdict(lambda: 0))"
   ]
  },
  {
   "cell_type": "code",
   "execution_count": 7,
   "metadata": {},
   "outputs": [],
   "source": [
    "# Count frequency of co-occurance  \n",
    "for sentence in reuters.sents():\n",
    "    for w1, w2, w3 in trigrams(sentence, pad_right=True, pad_left=True):\n",
    "        model[(w1, w2)][w3] += 1"
   ]
  },
  {
   "cell_type": "code",
   "execution_count": 16,
   "metadata": {},
   "outputs": [],
   "source": [
    "# Let's transform the counts to probabilities\n",
    "for w1_w2 in model:\n",
    "    total_count = float(sum(model[w1_w2].values()))\n",
    "    for w3 in model[w1_w2]:\n",
    "        model[w1_w2][w3] /= total_count"
   ]
  },
  {
   "cell_type": "code",
   "execution_count": 32,
   "metadata": {
    "scrolled": true
   },
   "outputs": [
    {
     "data": {
      "text/plain": [
       "{'communique': 0.021739130434782608,\n",
       " 'chance': 0.021739130434782608,\n",
       " 'manager': 0.021739130434782608,\n",
       " 'central': 0.043478260869565216,\n",
       " 'announcement': 0.021739130434782608,\n",
       " 'minimum': 0.021739130434782608,\n",
       " 'administration': 0.021739130434782608,\n",
       " 'United': 0.021739130434782608,\n",
       " 'U': 0.06521739130434782,\n",
       " 'decision': 0.06521739130434782,\n",
       " 'Japanese': 0.021739130434782608,\n",
       " 'MPs': 0.021739130434782608,\n",
       " 'differential': 0.021739130434782608,\n",
       " 'British': 0.043478260869565216,\n",
       " 'Paris': 0.021739130434782608,\n",
       " 'state': 0.021739130434782608,\n",
       " 'Buffer': 0.021739130434782608,\n",
       " 'markets': 0.021739130434782608,\n",
       " 'Fed': 0.043478260869565216,\n",
       " 'company': 0.021739130434782608,\n",
       " 'offer': 0.021739130434782608,\n",
       " 'result': 0.021739130434782608,\n",
       " 'pressure': 0.021739130434782608,\n",
       " 'outcome': 0.021739130434782608,\n",
       " 'union': 0.021739130434782608,\n",
       " 'financial': 0.021739130434782608,\n",
       " 'government': 0.043478260869565216,\n",
       " 'parameters': 0.021739130434782608,\n",
       " 'economists': 0.043478260869565216,\n",
       " 'trade': 0.021739130434782608,\n",
       " 'chief': 0.021739130434782608,\n",
       " 'Administration': 0.021739130434782608,\n",
       " 'group': 0.021739130434782608,\n",
       " 'equity': 0.021739130434782608,\n",
       " 'State': 0.021739130434782608,\n",
       " 'conversation': 0.021739130434782608,\n",
       " 'the': 0.021739130434782608,\n",
       " 'word': 0,\n",
       " 'work': 0}"
      ]
     },
     "execution_count": 32,
     "metadata": {},
     "output_type": "execute_result"
    }
   ],
   "source": [
    "# predict the next word\n",
    "dict(model[\"what\", \"the\"])"
   ]
  },
  {
   "cell_type": "code",
   "execution_count": 53,
   "metadata": {},
   "outputs": [
    {
     "name": "stdout",
     "output_type": "stream",
     "text": [
      "today the Turkish vessel Sismik 1 began research operations \" we are still very high and deter investment in CheckRobot Inc in 60 to 65 - 1 / 2 pct last week .\n"
     ]
    }
   ],
   "source": [
    "import random\n",
    "\n",
    "# starting words\n",
    "text = [\"today\", \"the\"]\n",
    "sentence_finished = False\n",
    " \n",
    "while not sentence_finished:    \n",
    "    # select a random probability threshold  \n",
    "    r = random.random()\n",
    "    accumulator = .0\n",
    "    \n",
    "    if  model[tuple(text[-2:])].keys():        \n",
    "        for word in model[tuple(text[-2:])].keys():\n",
    "            accumulator += model[tuple(text[-2:])][word]\n",
    "            # select words that are above the probability threshold\n",
    "            if accumulator >= r:\n",
    "                text.append(word)\n",
    "                break\n",
    "\n",
    "        if text[-2:] == [None, None]:\n",
    "            sentence_finished = True\n",
    "    else:\n",
    "        break\n",
    "\n",
    "print(' '.join([t for t in text if t]))"
   ]
  },
  {
   "cell_type": "code",
   "execution_count": null,
   "metadata": {},
   "outputs": [],
   "source": []
  }
 ],
 "metadata": {
  "kernelspec": {
   "display_name": "Python 3",
   "language": "python",
   "name": "python3"
  },
  "language_info": {
   "codemirror_mode": {
    "name": "ipython",
    "version": 3
   },
   "file_extension": ".py",
   "mimetype": "text/x-python",
   "name": "python",
   "nbconvert_exporter": "python",
   "pygments_lexer": "ipython3",
   "version": "3.7.4"
  }
 },
 "nbformat": 4,
 "nbformat_minor": 2
}
